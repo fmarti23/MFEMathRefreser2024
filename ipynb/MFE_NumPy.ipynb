{
 "cells": [
  {
   "cell_type": "code",
   "execution_count": 2,
   "id": "154fbb5c-a619-4918-85ab-6b1f2ccfa146",
   "metadata": {},
   "outputs": [
    {
     "data": {
      "text/latex": [
       "$A=\\left[\\begin{array}{cccc}1 & 3 & 7 & 2 \\\\ 5 & 8 & -9 & 0 \\\\ 6 & -7 & 11 & 12\\end{array}\\right]$\n"
      ],
      "text/plain": [
       "<IPython.core.display.Latex object>"
      ]
     },
     "metadata": {},
     "output_type": "display_data"
    }
   ],
   "source": [
    "%%latex\n",
    "$A=\\left[\\begin{array}{cccc}1 & 3 & 7 & 2 \\\\ 5 & 8 & -9 & 0 \\\\ 6 & -7 & 11 & 12\\end{array}\\right]$"
   ]
  },
  {
   "cell_type": "code",
   "execution_count": 3,
   "id": "39e45f93-786d-4818-85aa-d772f34d4147",
   "metadata": {},
   "outputs": [
    {
     "data": {
      "text/latex": [
       "$a=\\left[\\begin{array}{l}1 \\\\ 3 \\\\ 7 \\\\ 2\\end{array}\\right]$\n"
      ],
      "text/plain": [
       "<IPython.core.display.Latex object>"
      ]
     },
     "metadata": {},
     "output_type": "display_data"
    }
   ],
   "source": [
    "%%latex\n",
    "$a=\\left[\\begin{array}{l}1 \\\\ 3 \\\\ 7 \\\\ 2\\end{array}\\right]$"
   ]
  },
  {
   "cell_type": "code",
   "execution_count": 4,
   "id": "07fa7461-ccd3-4810-a298-dbf1ecc11831",
   "metadata": {},
   "outputs": [
    {
     "name": "stdout",
     "output_type": "stream",
     "text": [
      "a = [[1]\n",
      " [3]\n",
      " [7]\n",
      " [2]]\n",
      "A = [[ 1  3  7  2]\n",
      " [ 5  8 -9  0]\n",
      " [ 6 -7 11 12]]\n"
     ]
    }
   ],
   "source": [
    "import numpy as np\n",
    "a = np.array([[1],\n",
    "        [3],\n",
    "        [7],\n",
    "        [2]])\n",
    "print(\"a =\", a)\n",
    "A = np.array([[1, 3, 7, 2],\n",
    "        [5, 8, -9, 0],\n",
    "        [6, -7, 11, 12]])\n",
    "print(\"A =\", A)\n"
   ]
  },
  {
   "cell_type": "code",
   "execution_count": 5,
   "id": "7a95f039-ff95-4cd4-9b89-f99710a57350",
   "metadata": {},
   "outputs": [
    {
     "data": {
      "text/latex": [
       "There is a Matrix feature in the NumPy Library, called as numpy.matrix, but it is no longer recommended to use this class. Regular arrays shoyld be used.\n"
      ],
      "text/plain": [
       "<IPython.core.display.Latex object>"
      ]
     },
     "metadata": {},
     "output_type": "display_data"
    }
   ],
   "source": [
    "%%latex\n",
    "There is a Matrix feature in the NumPy Library, called as numpy.matrix, but it is no longer recommended to use this class. Regular arrays shoyld be used."
   ]
  },
  {
   "cell_type": "code",
   "execution_count": 10,
   "id": "651875a9-0bda-41d2-a491-6cac4d064a88",
   "metadata": {},
   "outputs": [
    {
     "data": {
      "text/latex": [
       "Given the following: $\\quad A=\\left[\\begin{array}{cc}0 & 1 \\\\ -2 & -3\\end{array}\\right] \\quad B=\\left[\\begin{array}{cc}1 & 0 \\\\ 3 & -2\\end{array}\\right]$\n",
       "\n"
      ],
      "text/plain": [
       "<IPython.core.display.Latex object>"
      ]
     },
     "metadata": {},
     "output_type": "display_data"
    }
   ],
   "source": [
    "%%latex\n",
    "Given the following: $\\quad A=\\left[\\begin{array}{cc}0 & 1 \\\\ -2 & -3\\end{array}\\right] \\quad B=\\left[\\begin{array}{cc}1 & 0 \\\\ 3 & -2\\end{array}\\right]$\n",
    "\n"
   ]
  },
  {
   "cell_type": "code",
   "execution_count": 11,
   "id": "21d7c7d7-a4b1-42c7-b9df-a9a1eac8084e",
   "metadata": {},
   "outputs": [
    {
     "data": {
      "text/latex": [
       "Matrix Addition:\n",
       "\n",
       "$$\n",
       "A+\\mathrm{B}=\\left[\\begin{array}{cc}\n",
       "0 & 1 \\\\\n",
       "-2 & -3\n",
       "\\end{array}\\right]+\\left[\\begin{array}{cc}\n",
       "1 & 0 \\\\\n",
       "3 & -2\n",
       "\\end{array}\\right]=\\left[\\begin{array}{cc}\n",
       "0+1 & 1+0 \\\\\n",
       "-2+3 & -3+(-2)\n",
       "\\end{array}\\right]=\\left[\\begin{array}{cc}\n",
       "1 & 1 \\\\\n",
       "1 & -5\n",
       "\\end{array}\\right]\n",
       "$$\n",
       "\n",
       "\n",
       "Matrix Subtraction:\n",
       "\n",
       "$$\n",
       "A-\\mathrm{B}=\\left[\\begin{array}{cc}\n",
       "0 & 1 \\\\\n",
       "-2 & -3\n",
       "\\end{array}\\right]-\\left[\\begin{array}{cc}\n",
       "1 & 0 \\\\\n",
       "3 & -2\n",
       "\\end{array}\\right]=\\left[\\begin{array}{cc}\n",
       "0-1 & 1-0 \\\\\n",
       "-2-3 & -3-(-2)\n",
       "\\end{array}\\right]=\\left[\\begin{array}{cc}\n",
       "-1 & 1 \\\\\n",
       "-5 & -1\n",
       "\\end{array}\\right]\n",
       "$$\n",
       "\n",
       "\n",
       "Matrix Multiplication:\n",
       "\n",
       "$$\n",
       "A B=\\left[\\begin{array}{cc}\n",
       "0 & 1 \\\\\n",
       "-2 & -3\n",
       "\\end{array}\\right]\\left[\\begin{array}{cc}\n",
       "1 & 0 \\\\\n",
       "3 & -2\n",
       "\\end{array}\\right]==\\left[\\begin{array}{cc}\n",
       "0 \\cdot 1+1 \\cdot 3 & 0 \\cdot 0+1 \\cdot(-2) \\\\\n",
       "-2 \\cdot 1-3 \\cdot 3 & -2 \\cdot 0-3 \\cdot(-2)\n",
       "\\end{array}\\right]=\\left[\\begin{array}{cc}\n",
       "3 & -2 \\\\\n",
       "-11 & 6\n",
       "\\end{array}\\right]\n",
       "$$\n"
      ],
      "text/plain": [
       "<IPython.core.display.Latex object>"
      ]
     },
     "metadata": {},
     "output_type": "display_data"
    }
   ],
   "source": [
    "%%latex\n",
    "Matrix Addition:\n",
    "\n",
    "$$\n",
    "A+\\mathrm{B}=\\left[\\begin{array}{cc}\n",
    "0 & 1 \\\\\n",
    "-2 & -3\n",
    "\\end{array}\\right]+\\left[\\begin{array}{cc}\n",
    "1 & 0 \\\\\n",
    "3 & -2\n",
    "\\end{array}\\right]=\\left[\\begin{array}{cc}\n",
    "0+1 & 1+0 \\\\\n",
    "-2+3 & -3+(-2)\n",
    "\\end{array}\\right]=\\left[\\begin{array}{cc}\n",
    "1 & 1 \\\\\n",
    "1 & -5\n",
    "\\end{array}\\right]\n",
    "$$\n",
    "\n",
    "\n",
    "Matrix Subtraction:\n",
    "\n",
    "$$\n",
    "A-\\mathrm{B}=\\left[\\begin{array}{cc}\n",
    "0 & 1 \\\\\n",
    "-2 & -3\n",
    "\\end{array}\\right]-\\left[\\begin{array}{cc}\n",
    "1 & 0 \\\\\n",
    "3 & -2\n",
    "\\end{array}\\right]=\\left[\\begin{array}{cc}\n",
    "0-1 & 1-0 \\\\\n",
    "-2-3 & -3-(-2)\n",
    "\\end{array}\\right]=\\left[\\begin{array}{cc}\n",
    "-1 & 1 \\\\\n",
    "-5 & -1\n",
    "\\end{array}\\right]\n",
    "$$\n",
    "\n",
    "\n",
    "Matrix Multiplication:\n",
    "\n",
    "$$\n",
    "A B=\\left[\\begin{array}{cc}\n",
    "0 & 1 \\\\\n",
    "-2 & -3\n",
    "\\end{array}\\right]\\left[\\begin{array}{cc}\n",
    "1 & 0 \\\\\n",
    "3 & -2\n",
    "\\end{array}\\right]==\\left[\\begin{array}{cc}\n",
    "0 \\cdot 1+1 \\cdot 3 & 0 \\cdot 0+1 \\cdot(-2) \\\\\n",
    "-2 \\cdot 1-3 \\cdot 3 & -2 \\cdot 0-3 \\cdot(-2)\n",
    "\\end{array}\\right]=\\left[\\begin{array}{cc}\n",
    "3 & -2 \\\\\n",
    "-11 & 6\n",
    "\\end{array}\\right]\n",
    "$$\n"
   ]
  },
  {
   "cell_type": "code",
   "execution_count": 17,
   "id": "c50d6c1c-b36a-4ce9-8180-60dde2106d3e",
   "metadata": {},
   "outputs": [
    {
     "name": "stdout",
     "output_type": "stream",
     "text": [
      "Addition\n",
      "A+B = [[ 1  1]\n",
      " [ 1 -5]]\n",
      " \n",
      "Subtraction\n",
      "A-B = [[-1  1]\n",
      " [-5 -1]]\n",
      " \n",
      "Multiplication (elementwise)\n",
      "A*B = [[ 0  0]\n",
      " [-6  6]]\n",
      " \n",
      "Alternatives\n",
      "1\n",
      "A*B = [[  3  -2]\n",
      " [-11   6]]\n",
      " \n",
      "2\n",
      "A*B = [[  3  -2]\n",
      " [-11   6]]\n",
      " \n",
      "3\n",
      "A*B = [[  3  -2]\n",
      " [-11   6]]\n",
      " \n",
      "4\n",
      "A*B = [[  3  -2]\n",
      " [-11   6]]\n",
      " \n"
     ]
    }
   ],
   "source": [
    "import numpy as np\n",
    "A = np.array([[0, 1],\n",
    "                [-2, -3]])\n",
    "B = np.array([[1, 0],\n",
    "            [3, -2]])\n",
    "print(\"Addition\")\n",
    "C = A + B\n",
    "print(\"A+B =\", C)\n",
    "print(\" \")\n",
    "print(\"Subtraction\")\n",
    "C = A - B\n",
    "print(\"A-B =\", C)\n",
    "print(\" \")\n",
    "print(\"Multiplication (elementwise)\")\n",
    "C = A * B\n",
    "print(\"A*B =\", C) # Not Working!, only elementwise multiplication!\n",
    "\n",
    "print(\" \")\n",
    "\n",
    "print(\"Alternatives\")\n",
    "print(\"1: A.dot(B)\")\n",
    "#Working Alternative 1\n",
    "C = A.dot(B)\n",
    "print(\"A*B =\", C)\n",
    "print(\" \")\n",
    "print(\"2: np.dot\")\n",
    "#Working Alternative 2\n",
    "C = np.dot(A,B)\n",
    "print(\"A*B =\", C)\n",
    "print(\" \")\n",
    "print(\"3: np.mat * np.mat (not advised)\")\n",
    "#Working Alternative 3\n",
    "C = np.mat(A) * np.mat(B)\n",
    "print(\"A*B =\", C)\n",
    "print(\" \")\n",
    "print(\"4: np.matmul\")\n",
    "#Working Alternative 4\n",
    "C = np.matmul(A,B)\n",
    "print(\"A*B =\", C)\n",
    "print(\" \")"
   ]
  },
  {
   "cell_type": "code",
   "execution_count": 19,
   "id": "f3b1b9c2-0996-4942-b2b3-50c6be2cdd47",
   "metadata": {},
   "outputs": [
    {
     "data": {
      "text/latex": [
       "Remember that in matrix multiplication the matrices do not need to be quadratic, but the inner dimensions need to be the same. The size of the resulting matrix will be the outer dimensions.\n",
       "\n",
       "$$\n",
       "\\begin{aligned}\n",
       "& {[A] \\times[B]=[C]} \\\\\n",
       "& (n \\times m) \\quad(m \\times p) \\quad(n \\times p)\n",
       "\\end{aligned}\n",
       "$$\n",
       "\n",
       "Inner dimensions need to be the same; the resulting matrix will be the outer dimensions.\n"
      ],
      "text/plain": [
       "<IPython.core.display.Latex object>"
      ]
     },
     "metadata": {},
     "output_type": "display_data"
    }
   ],
   "source": [
    "%%latex\n",
    "Remember that in matrix multiplication the matrices do not need to be quadratic, but the inner dimensions need to be the same. The size of the resulting matrix will be the outer dimensions.\n",
    "\n",
    "$$\n",
    "\\begin{aligned}\n",
    "& {[A] \\times[B]=[C]} \\\\\n",
    "& (n \\times m) \\quad(m \\times p) \\quad(n \\times p)\n",
    "\\end{aligned}\n",
    "$$\n",
    "\n",
    "Inner dimensions need to be the same; the resulting matrix will be the outer dimensions."
   ]
  },
  {
   "cell_type": "code",
   "execution_count": 31,
   "id": "cd572a98-7b95-4426-bc1c-0f36cf4d4b4f",
   "metadata": {},
   "outputs": [
    {
     "data": {
      "text/latex": [
       "\n",
       "\n",
       "dim(A) = (3x3)\n",
       "$$\n",
       "A=\\left[\\begin{array}{lll}\n",
       "1 & 5 & 3 \\\\\n",
       "4 & 6 & 6 \\\\\n",
       "3 & 8 & 9\n",
       "\\end{array}\\right] \\quad\n",
       "$$\n",
       "\n",
       "dim(B)=(3x4)\n",
       "$$\n",
       "B=\\left[\\begin{array}{llll}\n",
       "1 & 5 & 3 & 4 \\\\\n",
       "4 & 5 & 7 & 8 \\\\\n",
       "7 & 8 & 9 & 3\n",
       "\\end{array}\\right] \\\\\n",
       "$$\n",
       "\n",
       "dim(C)=(3x1)\n",
       "$$\n",
       "C=\\left[\\begin{array}{l}\n",
       "1 \\\\\n",
       "4 \\\\\n",
       "3\n",
       "\\end{array}\\right]\n",
       "$$\n",
       "\n",
       "dim(D)=(1x3)\n",
       "$$\n",
       "D = \\left[\\begin{array}{l}\n",
       "1 \\: 5 \\: 3\n",
       "\\end{array} \\right]\n",
       "$$\n",
       "\n",
       "\n"
      ],
      "text/plain": [
       "<IPython.core.display.Latex object>"
      ]
     },
     "metadata": {},
     "output_type": "display_data"
    }
   ],
   "source": [
    "%%latex\n",
    "\n",
    "\n",
    "dim(A) = (3x3)\n",
    "$$\n",
    "A=\\left[\\begin{array}{lll}\n",
    "1 & 5 & 3 \\\\\n",
    "4 & 6 & 6 \\\\\n",
    "3 & 8 & 9\n",
    "\\end{array}\\right] \\quad\n",
    "$$\n",
    "\n",
    "dim(B)=(3x4)\n",
    "$$\n",
    "B=\\left[\\begin{array}{llll}\n",
    "1 & 5 & 3 & 4 \\\\\n",
    "4 & 5 & 7 & 8 \\\\\n",
    "7 & 8 & 9 & 3\n",
    "\\end{array}\\right] \\\\\n",
    "$$\n",
    "\n",
    "dim(C)=(3x1)\n",
    "$$\n",
    "C=\\left[\\begin{array}{l}\n",
    "1 \\\\\n",
    "4 \\\\\n",
    "3\n",
    "\\end{array}\\right]\n",
    "$$\n",
    "\n",
    "dim(D)=(1x3)\n",
    "$$\n",
    "D = \\left[\\begin{array}{l}\n",
    "1 \\: 5 \\: 3\n",
    "\\end{array} \\right]\n",
    "$$\n",
    "\n",
    "\n"
   ]
  },
  {
   "cell_type": "code",
   "execution_count": 32,
   "id": "ba3dd067-a774-4401-af3d-59898794a463",
   "metadata": {},
   "outputs": [
    {
     "data": {
      "text/latex": [
       "\n",
       "\n",
       "\\begin{array}{l}\n",
       "A \\times C=(3 \\times 3) \\times(3 \\times 1)=(3 \\times 1) \\\\\n",
       "C \\times A=(3 \\times 1) \\times(3 \\times 3)=\\text { Not Legal } \\\\\n",
       "C \\times D=(3 \\times 1) \\times(1 \\times 3)=(3 \\times 3) \\\\\n",
       "D \\times C=(1 \\times 3) \\times(3 \\times 1)=(1 \\times 1)\n",
       "\\end{array} \\quad \n",
       "\n",
       "$$\n"
      ],
      "text/plain": [
       "<IPython.core.display.Latex object>"
      ]
     },
     "metadata": {},
     "output_type": "display_data"
    }
   ],
   "source": [
    "%%latex\n",
    "\n",
    "\n",
    "\\begin{array}{l}\n",
    "A \\times C=(3 \\times 3) \\times(3 \\times 1)=(3 \\times 1) \\\\\n",
    "C \\times A=(3 \\times 1) \\times(3 \\times 3)=\\text { Not Legal } \\\\\n",
    "C \\times D=(3 \\times 1) \\times(1 \\times 3)=(3 \\times 3) \\\\\n",
    "D \\times C=(1 \\times 3) \\times(3 \\times 1)=(1 \\times 1)\n",
    "\\end{array} \\quad \n",
    "\n",
    "$$\n"
   ]
  },
  {
   "cell_type": "code",
   "execution_count": 38,
   "id": "c00373e9-ae03-41f4-851f-dfc015b6de06",
   "metadata": {},
   "outputs": [
    {
     "name": "stdout",
     "output_type": "stream",
     "text": [
      " \n",
      "A: [[1 5 3]\n",
      " [4 6 6]\n",
      " [3 8 9]]\n",
      " \n",
      "B: [[1 5 3 4]\n",
      " [4 5 7 8]\n",
      " [7 8 9 3]]\n",
      " \n",
      " \n",
      "C: [[1]\n",
      " [4]\n",
      " [3]]\n",
      " \n",
      " \n",
      "D: [[1 5 3]]\n",
      " \n",
      " \n",
      "M=np.matmul(A,B)\n",
      "M= [[ 42  54  65  53]\n",
      " [ 70  98 108  82]\n",
      " [ 98 127 146 103]]\n",
      " \n",
      "M=np.matmul(A,C)\n",
      "M= [[30]\n",
      " [46]\n",
      " [62]]\n",
      " \n",
      "M=np.matmul(C,D)\n",
      "M= [[ 1  5  3]\n",
      " [ 4 20 12]\n",
      " [ 3 15  9]]\n",
      " \n",
      "M=np.matmul(D,C)\n",
      "M= [[30]]\n"
     ]
    }
   ],
   "source": [
    "\n",
    "import numpy as np\n",
    "A = np.array([[1, 5, 3],\n",
    "        [4, 6, 6],\n",
    "        [3, 8, 9]])\n",
    "print(\" \")\n",
    "print(\"A:\",A)\n",
    "B = np.array([[1, 5, 3, 4],\n",
    "        [4, 5, 7, 8],\n",
    "        [7, 8, 9, 3]])\n",
    "print(\" \")\n",
    "print(\"B:\",B)\n",
    "print(\" \")\n",
    "C = np.array([[1],\n",
    "        [4],\n",
    "        [3]])\n",
    "print(\" \")\n",
    "print(\"C:\",C)\n",
    "print(\" \")\n",
    "D = np.array([[1, 5, 3]])\n",
    "print(\" \")\n",
    "print(\"D:\",D)\n",
    "print(\" \")\n",
    "print(\" \")\n",
    "print(\"M=np.matmul(A,B)\")\n",
    "M = np.matmul(A,B)\n",
    "print(\"M=\", M)\n",
    "#M = np.matmul(B,A) # Not Working!\n",
    "print(\" \")\n",
    "print(\"M=np.matmul(A,C)\")\n",
    "M = np.matmul(A,C)\n",
    "print(\"M=\", M)\n",
    "#M = np.matmul(C,A) # Not Working!\n",
    "print(\" \")\n",
    "print(\"M=np.matmul(C,D)\")\n",
    "M = np.matmul(C,D)\n",
    "print(\"M=\", M)\n",
    "\n",
    "print(\" \")\n",
    "print(\"M=np.matmul(D,C)\")\n",
    "M = np.matmul(D,C)\n",
    "print(\"M=\", M)\n"
   ]
  },
  {
   "cell_type": "code",
   "execution_count": 41,
   "id": "7929caf7-953a-417a-aa6b-8f83bf797aa2",
   "metadata": {},
   "outputs": [
    {
     "data": {
      "text/latex": [
       "Transpose of a Matrix\n",
       "$$\n",
       "\\begin{aligned}\n",
       "& A=\\left[\\begin{array}{cccc}\n",
       "1 & 3 & 7 & 2 \\\\\n",
       "5 & 8 & -9 & 0 \\\\\n",
       "6 & -7 & 11 & 12\n",
       "\\end{array}\\right] \\quad \\Rightarrow \\quad A^T=\\left[\\begin{array}{ccc}\n",
       "1 & 5 & 6 \\\\\n",
       "3 & 8 & -7 \\\\\n",
       "7 & -9 & 11 \\\\\n",
       "2 & 0 & 12\n",
       "\\end{array}\\right] \\\\\n",
       "& B=\\left[\\begin{array}{ll}\n",
       "1 & 5 \\\\\n",
       "4 & 5 \\\\\n",
       "3 & 2 \\\\\n",
       "7 & 8\n",
       "\\end{array}\\right] \\quad \\Rightarrow \\quad B^T=\\left[\\begin{array}{llll}\n",
       "1 & 4 & 3 & 7 \\\\\n",
       "5 & 5 & 2 & 8\n",
       "\\end{array}\\right]\n",
       "\\end{aligned}\n",
       "$$\n"
      ],
      "text/plain": [
       "<IPython.core.display.Latex object>"
      ]
     },
     "metadata": {},
     "output_type": "display_data"
    }
   ],
   "source": [
    "%%latex\n",
    "Transpose of a Matrix\n",
    "$$\n",
    "\\begin{aligned}\n",
    "& A=\\left[\\begin{array}{cccc}\n",
    "1 & 3 & 7 & 2 \\\\\n",
    "5 & 8 & -9 & 0 \\\\\n",
    "6 & -7 & 11 & 12\n",
    "\\end{array}\\right] \\quad \\Rightarrow \\quad A^T=\\left[\\begin{array}{ccc}\n",
    "1 & 5 & 6 \\\\\n",
    "3 & 8 & -7 \\\\\n",
    "7 & -9 & 11 \\\\\n",
    "2 & 0 & 12\n",
    "\\end{array}\\right] \\\\\n",
    "& B=\\left[\\begin{array}{ll}\n",
    "1 & 5 \\\\\n",
    "4 & 5 \\\\\n",
    "3 & 2 \\\\\n",
    "7 & 8\n",
    "\\end{array}\\right] \\quad \\Rightarrow \\quad B^T=\\left[\\begin{array}{llll}\n",
    "1 & 4 & 3 & 7 \\\\\n",
    "5 & 5 & 2 & 8\n",
    "\\end{array}\\right]\n",
    "\\end{aligned}\n",
    "$$\n"
   ]
  },
  {
   "cell_type": "code",
   "execution_count": 42,
   "id": "c142e925-83e6-43d3-90b9-53b2481562d7",
   "metadata": {},
   "outputs": [
    {
     "name": "stdout",
     "output_type": "stream",
     "text": [
      "A=\n",
      "[[ 1  3  7  2]\n",
      " [ 5  8 -9  0]\n",
      " [ 6 -7 11 12]]\n",
      "Transpose of A=\n",
      "[[ 1  5  6]\n",
      " [ 3  8 -7]\n",
      " [ 7 -9 11]\n",
      " [ 2  0 12]]\n",
      "B=\n",
      "[[1 5]\n",
      " [4 5]\n",
      " [3 2]\n",
      " [7 8]]\n",
      "Transpose of B=\n",
      "[[1 4 3 7]\n",
      " [5 5 2 8]]\n"
     ]
    }
   ],
   "source": [
    "import numpy as np\n",
    "A = np.array([[1, 3, 7, 2],\n",
    "        [5, 8, -9, 0],\n",
    "        [6, -7, 11, 12]])\n",
    "print(\"A=\"); print(A)\n",
    "Atr = np.transpose(A)\n",
    "print(\"Transpose of A=\"); print(Atr)\n",
    "B = np.array([[1, 5],\n",
    "        [4,5],\n",
    "        [3, 2],\n",
    "        [7, 8]])\n",
    "print(\"B=\"); print(B)\n",
    "Btr = np.transpose(B)\n",
    "print(\"Transpose of B=\"); print(Btr)\n"
   ]
  },
  {
   "cell_type": "code",
   "execution_count": 45,
   "id": "3cecec4c-150f-48a7-8546-24ed1e015bea",
   "metadata": {},
   "outputs": [
    {
     "data": {
      "text/latex": [
       "Given a matrix $A$ the Determinant is given by:\n",
       "\n",
       "$$\n",
       "\\operatorname{det}(A)=|A|\n",
       "$$\n",
       "\n",
       "\n",
       "For a $2 x 2$ matrix we have:\n",
       "\n",
       "$$\n",
       "A=\\left[\\begin{array}{ll}\n",
       "a_{11} & a_{12} \\\\\n",
       "a_{21} & a_{22}\n",
       "\\end{array}\\right] \\Rightarrow \\operatorname{det}(A)=|A|=a_{11} a_{22}-a_{21} a_{12}\n",
       "$$\n",
       "\n",
       "\n",
       "Example:\n",
       "\n",
       "$$\n",
       "A=\\left[\\begin{array}{ll}\n",
       "1 & 2 \\\\\n",
       "3 & 4\n",
       "\\end{array}\\right] \\Rightarrow \\operatorname{det}(A)=|A|=1 \\cdot 4-3 \\cdot 2=4-6=\\underline{\\underline{-2}}\n",
       "$$\n"
      ],
      "text/plain": [
       "<IPython.core.display.Latex object>"
      ]
     },
     "metadata": {},
     "output_type": "display_data"
    }
   ],
   "source": [
    "%w%latex\n",
    "Given a matrix $A$ the Determinant is given by:\n",
    "\n",
    "$$\n",
    "\\operatorname{det}(A)=|A|\n",
    "$$\n",
    "\n",
    "\n",
    "For a $2 x 2$ matrix we have:\n",
    "\n",
    "$$\n",
    "A=\\left[\\begin{array}{ll}\n",
    "a_{11} & a_{12} \\\\\n",
    "a_{21} & a_{22}\n",
    "\\end{array}\\right] \\Rightarrow \\operatorname{det}(A)=|A|=a_{11} a_{22}-a_{21} a_{12}\n",
    "$$\n",
    "\n",
    "\n",
    "Example:\n",
    "\n",
    "$$\n",
    "A=\\left[\\begin{array}{ll}\n",
    "1 & 2 \\\\\n",
    "3 & 4\n",
    "\\end{array}\\right] \\Rightarrow \\operatorname{det}(A)=|A|=1 \\cdot 4-3 \\cdot 2=4-6=\\underline{\\underline{-2}}\n",
    "$$\n"
   ]
  },
  {
   "cell_type": "code",
   "execution_count": 49,
   "id": "eadc6553-adda-4ab6-b110-36145ba9efad",
   "metadata": {},
   "outputs": [
    {
     "data": {
      "text/latex": [
       "$\\begin{aligned} & A=\\left[\\begin{array}{ll}1 & 2 \\\\ 3 & 4\\end{array}\\right] \\\\ & \\quad \\operatorname{det}(A)=-2\\end{aligned}$\n"
      ],
      "text/plain": [
       "<IPython.core.display.Latex object>"
      ]
     },
     "metadata": {},
     "output_type": "display_data"
    }
   ],
   "source": [
    "%%latex\n",
    "$\\begin{aligned} & A=\\left[\\begin{array}{ll}1 & 2 \\\\ 3 & 4\\end{array}\\right] \\\\ & \\quad \\operatorname{det}(A)=-2\\end{aligned}$"
   ]
  },
  {
   "cell_type": "code",
   "execution_count": 50,
   "id": "06062a3f-88e0-4324-a44f-3c200facdd70",
   "metadata": {},
   "outputs": [
    {
     "data": {
      "text/latex": [
       "$\\begin{array}{r}B=\\left[\\begin{array}{ccc}-1 & 3 & 0 \\\\ 2 & 1 & -5 \\\\ 1 & 4 & -2\\end{array}\\right] \\\\ \\\\ \\operatorname{det}(B)=-21\\end{array}$\n"
      ],
      "text/plain": [
       "<IPython.core.display.Latex object>"
      ]
     },
     "metadata": {},
     "output_type": "display_data"
    }
   ],
   "source": [
    "%%latex\n",
    "$\\begin{array}{r}B=\\left[\\begin{array}{ccc}-1 & 3 & 0 \\\\ 2 & 1 & -5 \\\\ 1 & 4 & -2\\end{array}\\right] \\\\ \\\\ \\operatorname{det}(B)=-21\\end{array}$"
   ]
  },
  {
   "cell_type": "code",
   "execution_count": 52,
   "id": "fbba7133-6b91-4819-b569-0c3729608641",
   "metadata": {},
   "outputs": [
    {
     "name": "stdout",
     "output_type": "stream",
     "text": [
      "A: [[1 2]\n",
      " [3 4]]\n",
      " \n",
      "det(A)\n",
      "-2.0000000000000004\n",
      "B: [[-1  3  0]\n",
      " [ 2  1 -5]\n",
      " [ 1  4 -2]]\n",
      " \n",
      "det(B)\n",
      "-21.00000000000001\n"
     ]
    }
   ],
   "source": [
    "import numpy as np\n",
    "import numpy.linalg as la\n",
    "A = np.array([[1, 2],\n",
    "        [3, 4]])\n",
    "print(\"A:\",A)\n",
    "print(\" \")\n",
    "print(\"det(A)\")\n",
    "Adet = la.det(A)\n",
    "print(Adet)\n",
    "B = np.array([[-1, 3, 0],\n",
    "        [2, 1, -5],\n",
    "        [1, 4, -2]])\n",
    "print(\"B:\",B)\n",
    "print(\" \")\n",
    "print(\"det(B)\")\n",
    "Bdet = la.det(B)\n",
    "\n",
    "print(Bdet)\n"
   ]
  },
  {
   "cell_type": "code",
   "execution_count": 53,
   "id": "5a7fa62a-555e-4f43-9e4f-7d254d539c88",
   "metadata": {},
   "outputs": [
    {
     "data": {
      "text/latex": [
       "Inverse Matrices\n"
      ],
      "text/plain": [
       "<IPython.core.display.Latex object>"
      ]
     },
     "metadata": {},
     "output_type": "display_data"
    }
   ],
   "source": [
    "%%latex\n",
    "Inverse Matrices"
   ]
  },
  {
   "cell_type": "code",
   "execution_count": 54,
   "id": "af0ca016-c94d-4eca-8983-412b0194183a",
   "metadata": {},
   "outputs": [
    {
     "data": {
      "text/latex": [
       "$\\begin{aligned} & A=\\left[\\begin{array}{ll}1 & 2 \\\\ 3 & 4\\end{array}\\right] \\\\ & A^{-1}=\\left[\\begin{array}{cc}-2 & 1 \\\\ 1.5 & -0.5\\end{array}\\right]\\end{aligned}$\n"
      ],
      "text/plain": [
       "<IPython.core.display.Latex object>"
      ]
     },
     "metadata": {},
     "output_type": "display_data"
    }
   ],
   "source": [
    "%%latex \n",
    "$\\begin{aligned} & A=\\left[\\begin{array}{ll}1 & 2 \\\\ 3 & 4\\end{array}\\right] \\\\ & A^{-1}=\\left[\\begin{array}{cc}-2 & 1 \\\\ 1.5 & -0.5\\end{array}\\right]\\end{aligned}$"
   ]
  },
  {
   "cell_type": "code",
   "execution_count": 55,
   "id": "e80b17ba-82c3-49cd-a2d1-0d7ceceb9337",
   "metadata": {},
   "outputs": [
    {
     "data": {
      "text/latex": [
       "$\\begin{gathered}B=\\left[\\begin{array}{ccc}-1 & 3 & 0 \\\\ 2 & 1 & -5 \\\\ 1 & 4 & -2\\end{array}\\right] \\\\ B^{-1}=?\\end{gathered}$\n"
      ],
      "text/plain": [
       "<IPython.core.display.Latex object>"
      ]
     },
     "metadata": {},
     "output_type": "display_data"
    }
   ],
   "source": [
    "%%latex\n",
    "$\\begin{gathered}B=\\left[\\begin{array}{ccc}-1 & 3 & 0 \\\\ 2 & 1 & -5 \\\\ 1 & 4 & -2\\end{array}\\right] \\\\ B^{-1}=?\\end{gathered}$"
   ]
  },
  {
   "cell_type": "code",
   "execution_count": 59,
   "id": "8a82c6c9-3d4d-465d-b328-aef32dd99767",
   "metadata": {},
   "outputs": [
    {
     "name": "stdout",
     "output_type": "stream",
     "text": [
      "A: [[1 2]\n",
      " [3 4]]\n",
      " \n",
      "Ainv:  [[-2.   1. ]\n",
      " [ 1.5 -0.5]]\n",
      " \n",
      "B: [[-1  3  0]\n",
      " [ 2  1 -5]\n",
      " [ 1  4 -2]]\n",
      " \n",
      "Binv\n",
      "[[-0.85714286 -0.28571429  0.71428571]\n",
      " [ 0.04761905 -0.0952381   0.23809524]\n",
      " [-0.33333333 -0.33333333  0.33333333]]\n"
     ]
    }
   ],
   "source": [
    "import numpy as np\n",
    "import numpy.linalg as la\n",
    "A = np.array([[1, 2],\n",
    "        [3, 4]])\n",
    "print(\"A:\", A)\n",
    "\n",
    "print(\" \")\n",
    "Ainv = la.inv(A)\n",
    "print(\"Ainv: \",Ainv)\n",
    "print(\" \")\n",
    "B = np.array([[-1, 3, 0],\n",
    "        [2, 1, -5],\n",
    "        [1, 4, -2]])\n",
    "print(\"B:\",B)\n",
    "Binv = la.inv(B)\n",
    "print(\" \")\n",
    "print(\"Binv\")\n",
    "print(Binv)\n"
   ]
  },
  {
   "cell_type": "code",
   "execution_count": 60,
   "id": "953d698f-3514-4acc-a00f-c44fbf80bd76",
   "metadata": {},
   "outputs": [
    {
     "data": {
      "text/latex": [
       "The Eigenvalues for a given matrix $A$ is: $\\operatorname{det}(\\lambda I-A)=0$\n"
      ],
      "text/plain": [
       "<IPython.core.display.Latex object>"
      ]
     },
     "metadata": {},
     "output_type": "display_data"
    }
   ],
   "source": [
    "%%latex\n",
    "The Eigenvalues for a given matrix $A$ is: $\\operatorname{det}(\\lambda I-A)=0$"
   ]
  },
  {
   "cell_type": "code",
   "execution_count": 62,
   "id": "675f66c4-9371-4b96-a69a-b5272fe8e2d8",
   "metadata": {},
   "outputs": [
    {
     "data": {
      "text/latex": [
       "Example: $\\quad A=\\left[\\begin{array}{cc}0 & 1 \\\\ -2 & -3\\end{array}\\right]$\n"
      ],
      "text/plain": [
       "<IPython.core.display.Latex object>"
      ]
     },
     "metadata": {},
     "output_type": "display_data"
    }
   ],
   "source": [
    "%%latex\n",
    "Example: $\\quad A=\\left[\\begin{array}{cc}0 & 1 \\\\ -2 & -3\\end{array}\\right]$"
   ]
  },
  {
   "cell_type": "code",
   "execution_count": 64,
   "id": "8e75e451-8d68-49e7-922d-36b3d7746455",
   "metadata": {},
   "outputs": [
    {
     "data": {
      "text/latex": [
       "$\\operatorname{eig}(A)=\\left[\\begin{array}{l}-1 \\\\ -2\\end{array}\\right]$\n"
      ],
      "text/plain": [
       "<IPython.core.display.Latex object>"
      ]
     },
     "metadata": {},
     "output_type": "display_data"
    }
   ],
   "source": [
    "%%latex\n",
    "$\\operatorname{eig}(A)=\\left[\\begin{array}{l}-1 \\\\ -2\\end{array}\\right]$"
   ]
  },
  {
   "cell_type": "code",
   "execution_count": 66,
   "id": "7d36b97c-2ad6-42dc-bff6-2979472b3909",
   "metadata": {},
   "outputs": [
    {
     "data": {
      "text/latex": [
       "$\\lambda_1=-1, \\lambda_2=-2$\n"
      ],
      "text/plain": [
       "<IPython.core.display.Latex object>"
      ]
     },
     "metadata": {},
     "output_type": "display_data"
    }
   ],
   "source": [
    "%%latex\n",
    "$\\lambda_1=-1, \\lambda_2=-2$"
   ]
  },
  {
   "cell_type": "code",
   "execution_count": 74,
   "id": "3f010c1d-7bfd-4bec-985c-50fb27a6b6bf",
   "metadata": {},
   "outputs": [
    {
     "name": "stdout",
     "output_type": "stream",
     "text": [
      "A\n",
      "Aeig,v=la.eig(A)\n",
      "Note how this function gets you two outputs\n",
      "\n",
      "Eigenvalues of A\n",
      "[-1. -2.]\n"
     ]
    }
   ],
   "source": [
    "import numpy as np\n",
    "import numpy.linalg as la\n",
    "\n",
    "A = np.array([[0,1],[-2,-3]])\n",
    "print(\"A\")\n",
    "Aeig,v=la.eig(A)\n",
    "print(\"Aeig,v=la.eig(A)\")\n",
    "print(\"Note how this function gets you two outputs\")\n",
    "print(\"\")\n",
    "print(\"Eigenvalues of A\")\n",
    "print(Aeig)"
   ]
  },
  {
   "cell_type": "code",
   "execution_count": null,
   "id": "7365501e-facc-46a7-a0e6-5b9fe8fa0e84",
   "metadata": {},
   "outputs": [],
   "source": []
  }
 ],
 "metadata": {
  "kernelspec": {
   "display_name": "Python 3 (ipykernel)",
   "language": "python",
   "name": "python3"
  },
  "language_info": {
   "codemirror_mode": {
    "name": "ipython",
    "version": 3
   },
   "file_extension": ".py",
   "mimetype": "text/x-python",
   "name": "python",
   "nbconvert_exporter": "python",
   "pygments_lexer": "ipython3",
   "version": "3.12.4"
  }
 },
 "nbformat": 4,
 "nbformat_minor": 5
}
