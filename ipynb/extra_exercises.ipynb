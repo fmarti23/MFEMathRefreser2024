{
 "cells": [
  {
   "cell_type": "code",
   "execution_count": 1,
   "metadata": {},
   "outputs": [
    {
     "data": {
      "text/plain": [
       "'Pretend that you have just opened a new savings account that earns 4 percent interest\\nper year. The interest that you earn is paid at the end of the year, and is added\\nto the balance of the savings account. Write a program that begins by reading the\\namount of money deposited into the account from the user. Then your program should\\ncompute and display the amount in the savings account after 1, 2, and 3 years. Display\\neach amount so that it is rounded to 2 decimal places.'"
      ]
     },
     "execution_count": 1,
     "metadata": {},
     "output_type": "execute_result"
    }
   ],
   "source": [
    "# Exercise 1 (Compound Interest)\n",
    "\"\"\"Pretend that you have just opened a new savings account that earns 4 percent interest\n",
    "per year. The interest that you earn is paid at the end of the year, and is added\n",
    "to the balance of the savings account. Write a program that begins by reading the\n",
    "amount of money deposited into the account from the user. Then your program should\n",
    "compute and display the amount in the savings account after 1, 2, and 3 years. Display\n",
    "each amount so that it is rounded to 2 decimal places.\"\"\"\n"
   ]
  },
  {
   "cell_type": "code",
   "execution_count": null,
   "metadata": {},
   "outputs": [],
   "source": [
    "# Exercise 2 (Even or odd)\n",
    "# Write a program that reads an integer from the user. Then your program should\n",
    "# display a message indicating whether the integer is even or odd."
   ]
  }
 ],
 "metadata": {
  "kernelspec": {
   "display_name": "mfe2024",
   "language": "python",
   "name": "python3"
  },
  "language_info": {
   "codemirror_mode": {
    "name": "ipython",
    "version": 3
   },
   "file_extension": ".py",
   "mimetype": "text/x-python",
   "name": "python",
   "nbconvert_exporter": "python",
   "pygments_lexer": "ipython3",
   "version": "3.12.4"
  }
 },
 "nbformat": 4,
 "nbformat_minor": 2
}
