{
 "cells": [
  {
   "cell_type": "code",
   "execution_count": null,
   "id": "33333735-6159-41ca-96d1-5b84287c4d9d",
   "metadata": {},
   "outputs": [],
   "source": [
    "import pandas as pd\n",
    "import numpy as np"
   ]
  },
  {
   "cell_type": "code",
   "execution_count": null,
   "id": "8fe35cf4-6ec4-47fc-8ce8-3ed20bca207a",
   "metadata": {},
   "outputs": [],
   "source": [
    "%%latex\n",
    "Now we need to load the data. Look for the path in your computer"
   ]
  },
  {
   "cell_type": "code",
   "execution_count": null,
   "id": "036501d4-6810-4034-811f-711e52767e4e",
   "metadata": {},
   "outputs": [],
   "source": [
    "data = pd.read_csv('/Users/cyberdim/Library/CloudStorage/Dropbox/WESTERN_ECONOMICS/MFE_MATH_REFRESHER/2024/MFEMathRefreser2024/examples/wage_data.csv', low_memory=False)"
   ]
  },
  {
   "cell_type": "code",
   "execution_count": null,
   "id": "96d4b266-e1b3-4ce0-b886-b5e4021bacb3",
   "metadata": {},
   "outputs": [],
   "source": [
    "data.head()"
   ]
  },
  {
   "cell_type": "code",
   "execution_count": null,
   "id": "fcbe67c9-9a6a-4514-a179-de6af5564f6d",
   "metadata": {},
   "outputs": [],
   "source": [
    "data.columns"
   ]
  },
  {
   "cell_type": "code",
   "execution_count": null,
   "id": "48332f09-4f33-46c9-bf3c-a357614cbc41",
   "metadata": {},
   "outputs": [],
   "source": [
    "%%latex\n",
    "Remember that we are using the matrix formulation of OLS.\n",
    "$$ Y = X\\beta + \\epsilon $$"
   ]
  },
  {
   "cell_type": "code",
   "execution_count": null,
   "id": "2903f6aa-b289-447c-bdf4-475b647d0bc3",
   "metadata": {},
   "outputs": [],
   "source": [
    "constant = np.full((data.shape[0], 1), [1])"
   ]
  },
  {
   "cell_type": "code",
   "execution_count": null,
   "id": "82d6a05f-e5a7-4369-8eb6-ec6d5b41eee5",
   "metadata": {},
   "outputs": [],
   "source": [
    "Y = data[[\"lwage\"]].to_numpy()"
   ]
  },
  {
   "cell_type": "code",
   "execution_count": null,
   "id": "f2d2aa65-8ed6-4144-8474-84d5a79b2e02",
   "metadata": {},
   "outputs": [],
   "source": [
    "X2 = data[['educ', 'exper', 'tenure', 'age']].to_numpy()"
   ]
  },
  {
   "cell_type": "code",
   "execution_count": null,
   "id": "ac91088e-36ea-4f64-aee3-58e66d0fb1d4",
   "metadata": {},
   "outputs": [],
   "source": [
    "X = np.concatenate((constant,X2),axis=1)"
   ]
  },
  {
   "cell_type": "code",
   "execution_count": null,
   "id": "9d7276c4-f0e8-4b79-9724-26cca2d37adc",
   "metadata": {},
   "outputs": [],
   "source": [
    "X[0:10]"
   ]
  },
  {
   "cell_type": "code",
   "execution_count": null,
   "id": "3d992719-a091-474f-933d-7ed9593e9232",
   "metadata": {},
   "outputs": [],
   "source": []
  }
 ],
 "metadata": {
  "kernelspec": {
   "display_name": "Python 3 (ipykernel)",
   "language": "python",
   "name": "python3"
  },
  "language_info": {
   "codemirror_mode": {
    "name": "ipython",
    "version": 3
   },
   "file_extension": ".py",
   "mimetype": "text/x-python",
   "name": "python",
   "nbconvert_exporter": "python",
   "pygments_lexer": "ipython3",
   "version": "3.12.4"
  }
 },
 "nbformat": 4,
 "nbformat_minor": 5
}
